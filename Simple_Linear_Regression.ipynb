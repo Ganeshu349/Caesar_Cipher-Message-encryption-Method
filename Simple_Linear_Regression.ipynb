{
  "cells": [
    {
      "cell_type": "markdown",
      "metadata": {
        "id": "view-in-github",
        "colab_type": "text"
      },
      "source": [
        "<a href=\"https://colab.research.google.com/github/Ganeshu349/Caesar_Cipher-Message-encryption-Method/blob/main/Simple_Linear_Regression.ipynb\" target=\"_parent\"><img src=\"https://colab.research.google.com/assets/colab-badge.svg\" alt=\"Open In Colab\"/></a>"
      ]
    },
    {
      "cell_type": "code",
      "execution_count": null,
      "id": "5aaa76f8",
      "metadata": {
        "id": "5aaa76f8"
      },
      "outputs": [],
      "source": [
        "#import reauired libraries here\n",
        "import pandas as pd\n",
        "import matplotlib.pyplot as plt\n",
        "import seaborn as sns"
      ]
    },
    {
      "cell_type": "code",
      "execution_count": null,
      "id": "45921c92",
      "metadata": {
        "id": "45921c92"
      },
      "outputs": [],
      "source": [
        "#import data_set using pandas\n",
        "salary_data = pd.read_csv(\"Salary_dataset.csv\")"
      ]
    },
    {
      "cell_type": "code",
      "execution_count": null,
      "id": "d168fa61",
      "metadata": {
        "id": "d168fa61",
        "outputId": "862f8bd4-1be3-4720-d0d2-fd6ffaf3ca4b"
      },
      "outputs": [
        {
          "data": {
            "text/html": [
              "<div>\n",
              "<style scoped>\n",
              "    .dataframe tbody tr th:only-of-type {\n",
              "        vertical-align: middle;\n",
              "    }\n",
              "\n",
              "    .dataframe tbody tr th {\n",
              "        vertical-align: top;\n",
              "    }\n",
              "\n",
              "    .dataframe thead th {\n",
              "        text-align: right;\n",
              "    }\n",
              "</style>\n",
              "<table border=\"1\" class=\"dataframe\">\n",
              "  <thead>\n",
              "    <tr style=\"text-align: right;\">\n",
              "      <th></th>\n",
              "      <th>Unnamed: 0</th>\n",
              "      <th>YearsExperience</th>\n",
              "      <th>Salary</th>\n",
              "    </tr>\n",
              "  </thead>\n",
              "  <tbody>\n",
              "    <tr>\n",
              "      <th>0</th>\n",
              "      <td>0</td>\n",
              "      <td>1.2</td>\n",
              "      <td>39344.0</td>\n",
              "    </tr>\n",
              "    <tr>\n",
              "      <th>1</th>\n",
              "      <td>1</td>\n",
              "      <td>1.4</td>\n",
              "      <td>46206.0</td>\n",
              "    </tr>\n",
              "    <tr>\n",
              "      <th>2</th>\n",
              "      <td>2</td>\n",
              "      <td>1.6</td>\n",
              "      <td>37732.0</td>\n",
              "    </tr>\n",
              "    <tr>\n",
              "      <th>3</th>\n",
              "      <td>3</td>\n",
              "      <td>2.1</td>\n",
              "      <td>43526.0</td>\n",
              "    </tr>\n",
              "    <tr>\n",
              "      <th>4</th>\n",
              "      <td>4</td>\n",
              "      <td>2.3</td>\n",
              "      <td>39892.0</td>\n",
              "    </tr>\n",
              "  </tbody>\n",
              "</table>\n",
              "</div>"
            ],
            "text/plain": [
              "   Unnamed: 0  YearsExperience   Salary\n",
              "0           0              1.2  39344.0\n",
              "1           1              1.4  46206.0\n",
              "2           2              1.6  37732.0\n",
              "3           3              2.1  43526.0\n",
              "4           4              2.3  39892.0"
            ]
          },
          "execution_count": 4,
          "metadata": {},
          "output_type": "execute_result"
        }
      ],
      "source": [
        "salary_data.head()"
      ]
    },
    {
      "cell_type": "code",
      "execution_count": null,
      "id": "f3b2131a",
      "metadata": {
        "id": "f3b2131a",
        "outputId": "b8a297e5-c9ff-43fe-83c6-48525b3f31ff"
      },
      "outputs": [
        {
          "data": {
            "text/plain": [
              "(30, 3)"
            ]
          },
          "execution_count": 9,
          "metadata": {},
          "output_type": "execute_result"
        }
      ],
      "source": [
        "salary_data.shape"
      ]
    },
    {
      "cell_type": "code",
      "execution_count": null,
      "id": "1cb10611",
      "metadata": {
        "id": "1cb10611",
        "outputId": "eca07e30-a388-44ad-e1c5-0beaaffb9251"
      },
      "outputs": [
        {
          "data": {
            "text/html": [
              "<div>\n",
              "<style scoped>\n",
              "    .dataframe tbody tr th:only-of-type {\n",
              "        vertical-align: middle;\n",
              "    }\n",
              "\n",
              "    .dataframe tbody tr th {\n",
              "        vertical-align: top;\n",
              "    }\n",
              "\n",
              "    .dataframe thead th {\n",
              "        text-align: right;\n",
              "    }\n",
              "</style>\n",
              "<table border=\"1\" class=\"dataframe\">\n",
              "  <thead>\n",
              "    <tr style=\"text-align: right;\">\n",
              "      <th></th>\n",
              "      <th>Unnamed: 0</th>\n",
              "      <th>YearsExperience</th>\n",
              "      <th>Salary</th>\n",
              "    </tr>\n",
              "  </thead>\n",
              "  <tbody>\n",
              "    <tr>\n",
              "      <th>count</th>\n",
              "      <td>30.000000</td>\n",
              "      <td>30.000000</td>\n",
              "      <td>30.000000</td>\n",
              "    </tr>\n",
              "    <tr>\n",
              "      <th>mean</th>\n",
              "      <td>14.500000</td>\n",
              "      <td>5.413333</td>\n",
              "      <td>76004.000000</td>\n",
              "    </tr>\n",
              "    <tr>\n",
              "      <th>std</th>\n",
              "      <td>8.803408</td>\n",
              "      <td>2.837888</td>\n",
              "      <td>27414.429785</td>\n",
              "    </tr>\n",
              "    <tr>\n",
              "      <th>min</th>\n",
              "      <td>0.000000</td>\n",
              "      <td>1.200000</td>\n",
              "      <td>37732.000000</td>\n",
              "    </tr>\n",
              "    <tr>\n",
              "      <th>25%</th>\n",
              "      <td>7.250000</td>\n",
              "      <td>3.300000</td>\n",
              "      <td>56721.750000</td>\n",
              "    </tr>\n",
              "    <tr>\n",
              "      <th>50%</th>\n",
              "      <td>14.500000</td>\n",
              "      <td>4.800000</td>\n",
              "      <td>65238.000000</td>\n",
              "    </tr>\n",
              "    <tr>\n",
              "      <th>75%</th>\n",
              "      <td>21.750000</td>\n",
              "      <td>7.800000</td>\n",
              "      <td>100545.750000</td>\n",
              "    </tr>\n",
              "    <tr>\n",
              "      <th>max</th>\n",
              "      <td>29.000000</td>\n",
              "      <td>10.600000</td>\n",
              "      <td>122392.000000</td>\n",
              "    </tr>\n",
              "  </tbody>\n",
              "</table>\n",
              "</div>"
            ],
            "text/plain": [
              "       Unnamed: 0  YearsExperience         Salary\n",
              "count   30.000000        30.000000      30.000000\n",
              "mean    14.500000         5.413333   76004.000000\n",
              "std      8.803408         2.837888   27414.429785\n",
              "min      0.000000         1.200000   37732.000000\n",
              "25%      7.250000         3.300000   56721.750000\n",
              "50%     14.500000         4.800000   65238.000000\n",
              "75%     21.750000         7.800000  100545.750000\n",
              "max     29.000000        10.600000  122392.000000"
            ]
          },
          "execution_count": 8,
          "metadata": {},
          "output_type": "execute_result"
        }
      ],
      "source": [
        "salary_data.describe()"
      ]
    },
    {
      "cell_type": "code",
      "execution_count": null,
      "id": "14402f14",
      "metadata": {
        "id": "14402f14",
        "outputId": "c192ba53-0efd-4044-f8cd-f76f0411299d"
      },
      "outputs": [
        {
          "data": {
            "text/plain": [
              "Unnamed: 0         False\n",
              "YearsExperience    False\n",
              "Salary             False\n",
              "dtype: bool"
            ]
          },
          "execution_count": 12,
          "metadata": {},
          "output_type": "execute_result"
        }
      ],
      "source": [
        "salary_data.count().isna()"
      ]
    },
    {
      "cell_type": "markdown",
      "id": "dba752ad",
      "metadata": {
        "id": "dba752ad"
      },
      "source": [
        "### let's visualize our data looks like "
      ]
    },
    {
      "cell_type": "code",
      "execution_count": null,
      "id": "8fc32a3c",
      "metadata": {
        "id": "8fc32a3c"
      },
      "outputs": [],
      "source": [
        "#here we will use two methods to plot same graph\n"
      ]
    },
    {
      "cell_type": "code",
      "execution_count": null,
      "id": "b37a29b6",
      "metadata": {
        "id": "b37a29b6",
        "outputId": "2ef86e9b-59e4-49bc-88aa-c09461137df1"
      },
      "outputs": [
        {
          "data": {
            "text/plain": [
              "<AxesSubplot:xlabel='YearsExperience', ylabel='Salary'>"
            ]
          },
          "execution_count": 15,
          "metadata": {},
          "output_type": "execute_result"
        },
        {
          "data": {
            "image/png": "[encoded data removed]",
            "text/plain": [
              "<Figure size 432x288 with 1 Axes>"
            ]
          },
          "metadata": {
            "needs_background": "light"
          },
          "output_type": "display_data"
        }
      ],
      "source": [
        "#we are using here seaborn library and creating a sample scatter plot \n",
        "sns.scatterplot(data=salary_data, x=\"YearsExperience\", y=\"Salary\")"
      ]
    },
    {
      "cell_type": "code",
      "execution_count": null,
      "id": "19e86bd9",
      "metadata": {
        "id": "19e86bd9",
        "outputId": "e0d7736a-ef7a-4669-d4e1-ab305d471fa4"
      },
      "outputs": [
        {
          "data": {
            "text/plain": [
              "Text(0, 0.5, 'Salary')"
            ]
          },
          "execution_count": 17,
          "metadata": {},
          "output_type": "execute_result"
        },
        {
          "data": {
            "image/png": "[encoded data removed]",
            "text/plain": [
              "<Figure size 432x288 with 1 Axes>"
            ]
          },
          "metadata": {
            "needs_background": "light"
          },
          "output_type": "display_data"
        }
      ],
      "source": [
        "#plotting using matplotlib library\n",
        "plt.scatter(salary_data[\"YearsExperience\"], salary_data[\"Salary\"])\n",
        "plt.xlabel('YearsExperience')\n",
        "plt.ylabel('Salary')\n"
      ]
    },
    {
      "cell_type": "markdown",
      "id": "00c343c3",
      "metadata": {
        "id": "00c343c3"
      },
      "source": [
        "### Linear_Regression"
      ]
    },
    {
      "cell_type": "code",
      "execution_count": null,
      "id": "ea8ea31d",
      "metadata": {
        "id": "ea8ea31d"
      },
      "outputs": [],
      "source": [
        "X = salary_data.iloc[:, 1:2]\n",
        "y = salary_data.iloc[:, -1]"
      ]
    },
    {
      "cell_type": "code",
      "execution_count": null,
      "id": "d51433e5",
      "metadata": {
        "id": "d51433e5"
      },
      "outputs": [],
      "source": [
        "from sklearn.model_selection import train_test_split\n",
        "X_train, X_test, y_train, y_test = train_test_split(X, y, train_size=0.2, random_state=2)"
      ]
    },
    {
      "cell_type": "code",
      "execution_count": null,
      "id": "96bbd8fb",
      "metadata": {
        "id": "96bbd8fb"
      },
      "outputs": [],
      "source": [
        "from sklearn.linear_model import LinearRegression\n",
        "lr = LinearRegression()"
      ]
    },
    {
      "cell_type": "code",
      "execution_count": null,
      "id": "0ca10f73",
      "metadata": {
        "id": "0ca10f73",
        "outputId": "0915be1a-64e7-4efb-cc3d-9ad07f053cde"
      },
      "outputs": [
        {
          "data": {
            "text/plain": [
              "LinearRegression()"
            ]
          },
          "execution_count": 30,
          "metadata": {},
          "output_type": "execute_result"
        }
      ],
      "source": [
        "#let's train our model\n",
        "lr.fit(X_train, y_train)"
      ]
    },
    {
      "cell_type": "code",
      "execution_count": null,
      "id": "79a7c534",
      "metadata": {
        "id": "79a7c534",
        "outputId": "4d7444c7-0329-4ac7-8548-0821414f6b87"
      },
      "outputs": [
        {
          "data": {
            "text/html": [
              "<div>\n",
              "<style scoped>\n",
              "    .dataframe tbody tr th:only-of-type {\n",
              "        vertical-align: middle;\n",
              "    }\n",
              "\n",
              "    .dataframe tbody tr th {\n",
              "        vertical-align: top;\n",
              "    }\n",
              "\n",
              "    .dataframe thead th {\n",
              "        text-align: right;\n",
              "    }\n",
              "</style>\n",
              "<table border=\"1\" class=\"dataframe\">\n",
              "  <thead>\n",
              "    <tr style=\"text-align: right;\">\n",
              "      <th></th>\n",
              "      <th>YearsExperience</th>\n",
              "    </tr>\n",
              "  </thead>\n",
              "  <tbody>\n",
              "    <tr>\n",
              "      <th>1</th>\n",
              "      <td>1.4</td>\n",
              "    </tr>\n",
              "    <tr>\n",
              "      <th>0</th>\n",
              "      <td>1.2</td>\n",
              "    </tr>\n",
              "    <tr>\n",
              "      <th>14</th>\n",
              "      <td>4.6</td>\n",
              "    </tr>\n",
              "    <tr>\n",
              "      <th>9</th>\n",
              "      <td>3.8</td>\n",
              "    </tr>\n",
              "    <tr>\n",
              "      <th>21</th>\n",
              "      <td>7.2</td>\n",
              "    </tr>\n",
              "    <tr>\n",
              "      <th>19</th>\n",
              "      <td>6.1</td>\n",
              "    </tr>\n",
              "    <tr>\n",
              "      <th>23</th>\n",
              "      <td>8.3</td>\n",
              "    </tr>\n",
              "    <tr>\n",
              "      <th>6</th>\n",
              "      <td>3.1</td>\n",
              "    </tr>\n",
              "    <tr>\n",
              "      <th>3</th>\n",
              "      <td>2.1</td>\n",
              "    </tr>\n",
              "    <tr>\n",
              "      <th>20</th>\n",
              "      <td>6.9</td>\n",
              "    </tr>\n",
              "    <tr>\n",
              "      <th>5</th>\n",
              "      <td>3.0</td>\n",
              "    </tr>\n",
              "    <tr>\n",
              "      <th>27</th>\n",
              "      <td>9.7</td>\n",
              "    </tr>\n",
              "    <tr>\n",
              "      <th>12</th>\n",
              "      <td>4.1</td>\n",
              "    </tr>\n",
              "    <tr>\n",
              "      <th>4</th>\n",
              "      <td>2.3</td>\n",
              "    </tr>\n",
              "    <tr>\n",
              "      <th>10</th>\n",
              "      <td>4.0</td>\n",
              "    </tr>\n",
              "    <tr>\n",
              "      <th>16</th>\n",
              "      <td>5.2</td>\n",
              "    </tr>\n",
              "    <tr>\n",
              "      <th>28</th>\n",
              "      <td>10.4</td>\n",
              "    </tr>\n",
              "    <tr>\n",
              "      <th>25</th>\n",
              "      <td>9.1</td>\n",
              "    </tr>\n",
              "    <tr>\n",
              "      <th>17</th>\n",
              "      <td>5.4</td>\n",
              "    </tr>\n",
              "    <tr>\n",
              "      <th>2</th>\n",
              "      <td>1.6</td>\n",
              "    </tr>\n",
              "    <tr>\n",
              "      <th>7</th>\n",
              "      <td>3.3</td>\n",
              "    </tr>\n",
              "    <tr>\n",
              "      <th>26</th>\n",
              "      <td>9.6</td>\n",
              "    </tr>\n",
              "    <tr>\n",
              "      <th>24</th>\n",
              "      <td>8.8</td>\n",
              "    </tr>\n",
              "    <tr>\n",
              "      <th>18</th>\n",
              "      <td>6.0</td>\n",
              "    </tr>\n",
              "  </tbody>\n",
              "</table>\n",
              "</div>"
            ],
            "text/plain": [
              "    YearsExperience\n",
              "1               1.4\n",
              "0               1.2\n",
              "14              4.6\n",
              "9               3.8\n",
              "21              7.2\n",
              "19              6.1\n",
              "23              8.3\n",
              "6               3.1\n",
              "3               2.1\n",
              "20              6.9\n",
              "5               3.0\n",
              "27              9.7\n",
              "12              4.1\n",
              "4               2.3\n",
              "10              4.0\n",
              "16              5.2\n",
              "28             10.4\n",
              "25              9.1\n",
              "17              5.4\n",
              "2               1.6\n",
              "7               3.3\n",
              "26              9.6\n",
              "24              8.8\n",
              "18              6.0"
            ]
          },
          "execution_count": 31,
          "metadata": {},
          "output_type": "execute_result"
        }
      ],
      "source": [
        "X_test"
      ]
    },
    {
      "cell_type": "code",
      "execution_count": null,
      "id": "a549d8c9",
      "metadata": {
        "id": "a549d8c9",
        "outputId": "bb41ffee-84c4-4c68-8643-d5e52bd58220"
      },
      "outputs": [
        {
          "data": {
            "text/plain": [
              "1      46206.0\n",
              "0      39344.0\n",
              "14     61112.0\n",
              "9      57190.0\n",
              "21     98274.0\n",
              "19     93941.0\n",
              "23    113813.0\n",
              "6      60151.0\n",
              "3      43526.0\n",
              "20     91739.0\n",
              "5      56643.0\n",
              "27    112636.0\n",
              "12     56958.0\n",
              "4      39892.0\n",
              "10     63219.0\n",
              "16     66030.0\n",
              "28    122392.0\n",
              "25    105583.0\n",
              "17     83089.0\n",
              "2      37732.0\n",
              "7      54446.0\n",
              "26    116970.0\n",
              "24    109432.0\n",
              "18     81364.0\n",
              "Name: Salary, dtype: float64"
            ]
          },
          "execution_count": 32,
          "metadata": {},
          "output_type": "execute_result"
        }
      ],
      "source": [
        "y_test"
      ]
    },
    {
      "cell_type": "code",
      "execution_count": null,
      "id": "9ea0e713",
      "metadata": {
        "id": "9ea0e713",
        "outputId": "d13ee942-e6ca-4572-dbb6-f8987d9afb30"
      },
      "outputs": [
        {
          "data": {
            "text/plain": [
              "array([36401.76712556])"
            ]
          },
          "execution_count": 36,
          "metadata": {},
          "output_type": "execute_result"
        }
      ],
      "source": [
        "#predicting\n",
        "lr.predict(X_test.iloc[0].values.reshape(1,1))"
      ]
    },
    {
      "cell_type": "code",
      "execution_count": null,
      "id": "b8787cd2",
      "metadata": {
        "id": "b8787cd2",
        "outputId": "ae020c36-eada-49cb-bd26-6f1c6401e80a"
      },
      "outputs": [
        {
          "data": {
            "text/plain": [
              "Text(0, 0.5, 'Salary')"
            ]
          },
          "execution_count": 38,
          "metadata": {},
          "output_type": "execute_result"
        },
        {
          "data": {
            "image/png": "[encoded data removed]",
            "text/plain": [
              "<Figure size 432x288 with 1 Axes>"
            ]
          },
          "metadata": {
            "needs_background": "light"
          },
          "output_type": "display_data"
        }
      ],
      "source": [
        "\n",
        "plt.scatter(salary_data[\"YearsExperience\"], salary_data[\"Salary\"])\n",
        "plt.plot(X_test, lr.predict(X_test), color = 'red')\n",
        "plt.xlabel('YearsExperience')\n",
        "plt.ylabel('Salary')"
      ]
    },
    {
      "cell_type": "code",
      "execution_count": null,
      "id": "67dc4979",
      "metadata": {
        "id": "67dc4979",
        "outputId": "d30aca05-a1cf-4a64-9a07-20e3001185c2"
      },
      "outputs": [
        {
          "name": "stdout",
          "output_type": "stream",
          "text": [
            "Collecting jupyterthemesNote: you may need to restart the kernel to use updated packages.\n",
            "\n"
          ]
        },
        {
          "name": "stderr",
          "output_type": "stream",
          "text": [
            "\n",
            "[notice] A new release of pip available: 22.3.1 -> 23.1.2\n",
            "[notice] To update, run: python.exe -m pip install --upgrade pip\n"
          ]
        },
        {
          "name": "stdout",
          "output_type": "stream",
          "text": [
            "  Downloading jupyterthemes-0.20.0-py2.py3-none-any.whl (7.0 MB)\n",
            "     ---------------------------------------- 7.0/7.0 MB 6.8 MB/s eta 0:00:00\n",
            "Requirement already satisfied: jupyter-core in c:\\users\\ganesh\\anaconda3\\lib\\site-packages (from jupyterthemes) (5.1.0)\n",
            "Requirement already satisfied: ipython>=5.4.1 in c:\\users\\ganesh\\anaconda3\\lib\\site-packages (from jupyterthemes) (7.29.0)\n",
            "Requirement already satisfied: notebook>=5.6.0 in c:\\users\\ganesh\\anaconda3\\lib\\site-packages (from jupyterthemes) (6.4.5)\n",
            "Requirement already satisfied: matplotlib>=1.4.3 in c:\\users\\ganesh\\anaconda3\\lib\\site-packages (from jupyterthemes) (3.4.3)\n",
            "Collecting lesscpy>=0.11.2\n",
            "  Downloading lesscpy-0.15.1-py2.py3-none-any.whl (46 kB)\n",
            "     ---------------------------------------- 46.7/46.7 kB ? eta 0:00:00\n",
            "Requirement already satisfied: matplotlib-inline in c:\\users\\ganesh\\anaconda3\\lib\\site-packages (from ipython>=5.4.1->jupyterthemes) (0.1.2)\n",
            "Requirement already satisfied: decorator in c:\\users\\ganesh\\anaconda3\\lib\\site-packages (from ipython>=5.4.1->jupyterthemes) (5.1.0)\n",
            "Requirement already satisfied: traitlets>=4.2 in c:\\users\\ganesh\\anaconda3\\lib\\site-packages (from ipython>=5.4.1->jupyterthemes) (5.7.1)\n",
            "Requirement already satisfied: setuptools>=18.5 in c:\\users\\ganesh\\anaconda3\\lib\\site-packages (from ipython>=5.4.1->jupyterthemes) (58.0.4)\n",
            "Requirement already satisfied: colorama in c:\\users\\ganesh\\anaconda3\\lib\\site-packages (from ipython>=5.4.1->jupyterthemes) (0.4.4)\n",
            "Requirement already satisfied: backcall in c:\\users\\ganesh\\anaconda3\\lib\\site-packages (from ipython>=5.4.1->jupyterthemes) (0.2.0)\n",
            "Requirement already satisfied: prompt-toolkit!=3.0.0,!=3.0.1,<3.1.0,>=2.0.0 in c:\\users\\ganesh\\anaconda3\\lib\\site-packages (from ipython>=5.4.1->jupyterthemes) (3.0.20)\n",
            "Requirement already satisfied: pickleshare in c:\\users\\ganesh\\anaconda3\\lib\\site-packages (from ipython>=5.4.1->jupyterthemes) (0.7.5)\n",
            "Requirement already satisfied: jedi>=0.16 in c:\\users\\ganesh\\anaconda3\\lib\\site-packages (from ipython>=5.4.1->jupyterthemes) (0.18.0)\n",
            "Requirement already satisfied: pygments in c:\\users\\ganesh\\anaconda3\\lib\\site-packages (from ipython>=5.4.1->jupyterthemes) (2.10.0)\n",
            "Requirement already satisfied: ply in c:\\users\\ganesh\\anaconda3\\lib\\site-packages (from lesscpy>=0.11.2->jupyterthemes) (3.11)\n",
            "Requirement already satisfied: kiwisolver>=1.0.1 in c:\\users\\ganesh\\anaconda3\\lib\\site-packages (from matplotlib>=1.4.3->jupyterthemes) (1.3.1)\n",
            "Requirement already satisfied: cycler>=0.10 in c:\\users\\ganesh\\anaconda3\\lib\\site-packages (from matplotlib>=1.4.3->jupyterthemes) (0.10.0)\n",
            "Requirement already satisfied: pyparsing>=2.2.1 in c:\\users\\ganesh\\anaconda3\\lib\\site-packages (from matplotlib>=1.4.3->jupyterthemes) (3.0.4)\n",
            "Requirement already satisfied: numpy>=1.16 in c:\\users\\ganesh\\anaconda3\\lib\\site-packages (from matplotlib>=1.4.3->jupyterthemes) (1.20.3)\n",
            "Requirement already satisfied: python-dateutil>=2.7 in c:\\users\\ganesh\\anaconda3\\lib\\site-packages (from matplotlib>=1.4.3->jupyterthemes) (2.8.2)\n",
            "Requirement already satisfied: pillow>=6.2.0 in c:\\users\\ganesh\\anaconda3\\lib\\site-packages (from matplotlib>=1.4.3->jupyterthemes) (8.4.0)\n",
            "Requirement already satisfied: tornado>=6.1 in c:\\users\\ganesh\\anaconda3\\lib\\site-packages (from notebook>=5.6.0->jupyterthemes) (6.1)\n",
            "Requirement already satisfied: jinja2 in c:\\users\\ganesh\\anaconda3\\lib\\site-packages (from notebook>=5.6.0->jupyterthemes) (2.11.3)\n",
            "Requirement already satisfied: Send2Trash>=1.5.0 in c:\\users\\ganesh\\anaconda3\\lib\\site-packages (from notebook>=5.6.0->jupyterthemes) (1.8.0)\n",
            "Requirement already satisfied: argon2-cffi in c:\\users\\ganesh\\anaconda3\\lib\\site-packages (from notebook>=5.6.0->jupyterthemes) (20.1.0)\n",
            "Requirement already satisfied: nbformat in c:\\users\\ganesh\\anaconda3\\lib\\site-packages (from notebook>=5.6.0->jupyterthemes) (5.1.3)\n",
            "Requirement already satisfied: nbconvert in c:\\users\\ganesh\\anaconda3\\lib\\site-packages (from notebook>=5.6.0->jupyterthemes) (6.1.0)\n",
            "Requirement already satisfied: terminado>=0.8.3 in c:\\users\\ganesh\\anaconda3\\lib\\site-packages (from notebook>=5.6.0->jupyterthemes) (0.9.4)\n",
            "Requirement already satisfied: jupyter-client>=5.3.4 in c:\\users\\ganesh\\anaconda3\\lib\\site-packages (from notebook>=5.6.0->jupyterthemes) (6.1.12)\n",
            "Requirement already satisfied: prometheus-client in c:\\users\\ganesh\\anaconda3\\lib\\site-packages (from notebook>=5.6.0->jupyterthemes) (0.11.0)\n",
            "Requirement already satisfied: pyzmq>=17 in c:\\users\\ganesh\\anaconda3\\lib\\site-packages (from notebook>=5.6.0->jupyterthemes) (22.2.1)\n",
            "Requirement already satisfied: ipython-genutils in c:\\users\\ganesh\\anaconda3\\lib\\site-packages (from notebook>=5.6.0->jupyterthemes) (0.2.0)\n",
            "Requirement already satisfied: ipykernel in c:\\users\\ganesh\\anaconda3\\lib\\site-packages (from notebook>=5.6.0->jupyterthemes) (6.4.1)\n",
            "Requirement already satisfied: platformdirs>=2.5 in c:\\users\\ganesh\\anaconda3\\lib\\site-packages (from jupyter-core->jupyterthemes) (2.6.0)\n",
            "Requirement already satisfied: pywin32>=1.0 in c:\\users\\ganesh\\anaconda3\\lib\\site-packages (from jupyter-core->jupyterthemes) (228)\n",
            "Requirement already satisfied: six in c:\\users\\ganesh\\anaconda3\\lib\\site-packages (from cycler>=0.10->matplotlib>=1.4.3->jupyterthemes) (1.16.0)\n",
            "Requirement already satisfied: parso<0.9.0,>=0.8.0 in c:\\users\\ganesh\\anaconda3\\lib\\site-packages (from jedi>=0.16->ipython>=5.4.1->jupyterthemes) (0.8.2)\n",
            "Requirement already satisfied: wcwidth in c:\\users\\ganesh\\anaconda3\\lib\\site-packages (from prompt-toolkit!=3.0.0,!=3.0.1,<3.1.0,>=2.0.0->ipython>=5.4.1->jupyterthemes) (0.2.5)\n",
            "Requirement already satisfied: pywinpty>=0.5 in c:\\users\\ganesh\\anaconda3\\lib\\site-packages (from terminado>=0.8.3->notebook>=5.6.0->jupyterthemes) (0.5.7)\n",
            "Requirement already satisfied: cffi>=1.0.0 in c:\\users\\ganesh\\anaconda3\\lib\\site-packages (from argon2-cffi->notebook>=5.6.0->jupyterthemes) (1.14.6)\n",
            "Requirement already satisfied: debugpy<2.0,>=1.0.0 in c:\\users\\ganesh\\anaconda3\\lib\\site-packages (from ipykernel->notebook>=5.6.0->jupyterthemes) (1.4.1)\n",
            "Requirement already satisfied: MarkupSafe>=0.23 in c:\\users\\ganesh\\anaconda3\\lib\\site-packages (from jinja2->notebook>=5.6.0->jupyterthemes) (1.1.1)\n",
            "Requirement already satisfied: mistune<2,>=0.8.1 in c:\\users\\ganesh\\anaconda3\\lib\\site-packages (from nbconvert->notebook>=5.6.0->jupyterthemes) (0.8.4)\n",
            "Requirement already satisfied: bleach in c:\\users\\ganesh\\anaconda3\\lib\\site-packages (from nbconvert->notebook>=5.6.0->jupyterthemes) (4.0.0)\n",
            "Requirement already satisfied: defusedxml in c:\\users\\ganesh\\anaconda3\\lib\\site-packages (from nbconvert->notebook>=5.6.0->jupyterthemes) (0.7.1)\n",
            "Requirement already satisfied: testpath in c:\\users\\ganesh\\anaconda3\\lib\\site-packages (from nbconvert->notebook>=5.6.0->jupyterthemes) (0.5.0)\n",
            "Requirement already satisfied: nbclient<0.6.0,>=0.5.0 in c:\\users\\ganesh\\anaconda3\\lib\\site-packages (from nbconvert->notebook>=5.6.0->jupyterthemes) (0.5.3)\n",
            "Requirement already satisfied: pandocfilters>=1.4.1 in c:\\users\\ganesh\\anaconda3\\lib\\site-packages (from nbconvert->notebook>=5.6.0->jupyterthemes) (1.4.3)\n",
            "Requirement already satisfied: entrypoints>=0.2.2 in c:\\users\\ganesh\\anaconda3\\lib\\site-packages (from nbconvert->notebook>=5.6.0->jupyterthemes) (0.3)\n",
            "Requirement already satisfied: jupyterlab-pygments in c:\\users\\ganesh\\anaconda3\\lib\\site-packages (from nbconvert->notebook>=5.6.0->jupyterthemes) (0.1.2)\n",
            "Requirement already satisfied: jsonschema!=2.5.0,>=2.4 in c:\\users\\ganesh\\anaconda3\\lib\\site-packages (from nbformat->notebook>=5.6.0->jupyterthemes) (3.2.0)\n",
            "Requirement already satisfied: pycparser in c:\\users\\ganesh\\anaconda3\\lib\\site-packages (from cffi>=1.0.0->argon2-cffi->notebook>=5.6.0->jupyterthemes) (2.20)\n",
            "Requirement already satisfied: pyrsistent>=0.14.0 in c:\\users\\ganesh\\anaconda3\\lib\\site-packages (from jsonschema!=2.5.0,>=2.4->nbformat->notebook>=5.6.0->jupyterthemes) (0.18.0)\n",
            "Requirement already satisfied: attrs>=17.4.0 in c:\\users\\ganesh\\anaconda3\\lib\\site-packages (from jsonschema!=2.5.0,>=2.4->nbformat->notebook>=5.6.0->jupyterthemes) (21.2.0)\n",
            "Requirement already satisfied: nest-asyncio in c:\\users\\ganesh\\anaconda3\\lib\\site-packages (from nbclient<0.6.0,>=0.5.0->nbconvert->notebook>=5.6.0->jupyterthemes) (1.5.1)\n",
            "Requirement already satisfied: async-generator in c:\\users\\ganesh\\anaconda3\\lib\\site-packages (from nbclient<0.6.0,>=0.5.0->nbconvert->notebook>=5.6.0->jupyterthemes) (1.10)\n",
            "Requirement already satisfied: webencodings in c:\\users\\ganesh\\anaconda3\\lib\\site-packages (from bleach->nbconvert->notebook>=5.6.0->jupyterthemes) (0.5.1)\n",
            "Requirement already satisfied: packaging in c:\\users\\ganesh\\anaconda3\\lib\\site-packages (from bleach->nbconvert->notebook>=5.6.0->jupyterthemes) (21.0)\n",
            "Installing collected packages: lesscpy, jupyterthemes\n",
            "Successfully installed jupyterthemes-0.20.0 lesscpy-0.15.1\n"
          ]
        }
      ],
      "source": [
        "pip install jupyterthemes"
      ]
    },
    {
      "cell_type": "code",
      "execution_count": null,
      "id": "e27399b5",
      "metadata": {
        "id": "e27399b5",
        "outputId": "0188eeba-8897-4747-c6d0-e1ee47f37912"
      },
      "outputs": [
        {
          "name": "stdout",
          "output_type": "stream",
          "text": [
            "Available Themes: \n",
            "   chesterish\n",
            "   grade3\n",
            "   gruvboxd\n",
            "   gruvboxl\n",
            "   monokai\n",
            "   oceans16\n",
            "   onedork\n",
            "   solarizedd\n",
            "   solarizedl\n"
          ]
        }
      ],
      "source": [
        "!jt -l\n"
      ]
    },
    {
      "cell_type": "code",
      "execution_count": null,
      "id": "d99b6edb",
      "metadata": {
        "id": "d99b6edb"
      },
      "outputs": [],
      "source": [
        "!jt -t chesterish\n"
      ]
    },
    {
      "cell_type": "code",
      "execution_count": null,
      "id": "19fb92f0",
      "metadata": {
        "id": "19fb92f0"
      },
      "outputs": [],
      "source": []
    }
  ],
  "metadata": {
    "kernelspec": {
      "display_name": "Python 3 (ipykernel)",
      "language": "python",
      "name": "python3"
    },
    "language_info": {
      "codemirror_mode": {
        "name": "ipython",
        "version": 3
      },
      "file_extension": ".py",
      "mimetype": "text/x-python",
      "name": "python",
      "nbconvert_exporter": "python",
      "pygments_lexer": "ipython3",
      "version": "3.9.7"
    },
    "colab": {
      "provenance": [],
      "include_colab_link": true
    }
  },
  "nbformat": 4,
  "nbformat_minor": 5
}